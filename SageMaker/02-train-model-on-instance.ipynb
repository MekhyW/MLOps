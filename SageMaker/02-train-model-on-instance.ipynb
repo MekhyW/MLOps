{
 "cells": [
  {
   "cell_type": "markdown",
   "id": "c5f73bbc",
   "metadata": {},
   "source": [
    "# Bank Marketing Dataset - Notebook 02\n",
    "\n",
    "Predicting Term Deposit Suscriptions\n",
    "\n",
    "This notebook demonstrates how to train a model using the notebook's instance (no extra computational resources)."
   ]
  },
  {
   "cell_type": "code",
   "execution_count": null,
   "id": "794724cf",
   "metadata": {},
   "outputs": [],
   "source": [
    "!ls -la"
   ]
  },
  {
   "cell_type": "code",
   "execution_count": null,
   "id": "bf659bb4",
   "metadata": {},
   "outputs": [],
   "source": [
    "!ls -la data"
   ]
  },
  {
   "cell_type": "code",
   "execution_count": null,
   "id": "e8e0b408",
   "metadata": {},
   "outputs": [],
   "source": [
    "!pip install sagemaker ipywidgets --upgrade --quiet"
   ]
  },
  {
   "cell_type": "markdown",
   "id": "1ba467ef",
   "metadata": {},
   "source": [
    "## Import libs"
   ]
  },
  {
   "cell_type": "code",
   "execution_count": null,
   "id": "144fb7bb",
   "metadata": {},
   "outputs": [],
   "source": [
    "import pandas as pd\n",
    "import matplotlib.pyplot as plt\n",
    "from sklearn.utils import resample\n",
    "from sklearn.model_selection import train_test_split\n",
    "from sklearn.compose import make_column_transformer\n",
    "from sklearn.preprocessing import OneHotEncoder, StandardScaler\n",
    "from sklearn.linear_model import LogisticRegression\n",
    "from sklearn.metrics import (\n",
    "    accuracy_score,\n",
    "    precision_score,\n",
    "    recall_score,\n",
    "    f1_score,\n",
    "    confusion_matrix,\n",
    "    ConfusionMatrixDisplay,\n",
    ")"
   ]
  },
  {
   "cell_type": "markdown",
   "id": "703eac79",
   "metadata": {},
   "source": [
    "## Define preproc functions"
   ]
  },
  {
   "cell_type": "code",
   "execution_count": null,
   "id": "972d2781",
   "metadata": {},
   "outputs": [],
   "source": [
    "def rebalance(data):\n",
    "    \"\"\"\n",
    "    Resample data to keep balance between target classes.\n",
    "\n",
    "    The function uses the resample function to downsample the minority class to match the majority class.\n",
    "\n",
    "    Args:\n",
    "        data (pd.DataFrame): DataFrame\n",
    "\n",
    "    Returns:\n",
    "        pd.DataFrame): balanced DataFrame\n",
    "    \"\"\"\n",
    "    churn_0 = data[data[\"Exited\"] == 0]\n",
    "    churn_1 = data[data[\"Exited\"] == 1]\n",
    "    if len(churn_0) > len(churn_1):\n",
    "        churn_maj = churn_0\n",
    "        churn_min = churn_1\n",
    "    else:\n",
    "        churn_maj = churn_1\n",
    "        churn_min = churn_0\n",
    "    churn_maj_downsample = resample(\n",
    "        churn_maj, n_samples=len(churn_min), replace=False, random_state=1234\n",
    "    )\n",
    "\n",
    "    return pd.concat([churn_maj_downsample, churn_min])\n",
    "\n",
    "\n",
    "def preprocess(df):\n",
    "    \"\"\"\n",
    "    Preprocess and split data into training and test sets.\n",
    "\n",
    "    Args:\n",
    "        df (pd.DataFrame): DataFrame with features and target variables\n",
    "\n",
    "    Returns:\n",
    "        ColumnTransformer: ColumnTransformer with scalers and encoders\n",
    "        pd.DataFrame: training data with transformed features\n",
    "        pd.DataFrame: test data with transformed features\n",
    " \n",
    "    \"\"\"\n",
    "    filter_feat = [\n",
    "        \"Exited\",\n",
    "        \"CreditScore\",\n",
    "        \"Geography\",\n",
    "        \"Gender\",\n",
    "        \"Age\",\n",
    "        \"Tenure\",\n",
    "        \"Balance\",\n",
    "        \"NumOfProducts\",\n",
    "        \"HasCrCard\",\n",
    "        \"IsActiveMember\",\n",
    "        \"EstimatedSalary\",\n",
    "    ]\n",
    "    cat_cols = [\"Geography\", \"Gender\"]\n",
    "    num_cols = [\n",
    "        \"CreditScore\",\n",
    "        \"Age\",\n",
    "        \"Tenure\",\n",
    "        \"Balance\",\n",
    "        \"NumOfProducts\",\n",
    "        \"HasCrCard\",\n",
    "        \"IsActiveMember\",\n",
    "        \"EstimatedSalary\",\n",
    "    ]\n",
    "    data = df.loc[:, filter_feat]\n",
    "    data_bal = rebalance(data=data)\n",
    "\n",
    "    df_train, df_test = train_test_split(\n",
    "        data_bal, test_size=0.3, random_state=1912\n",
    "    )\n",
    "    col_transf = make_column_transformer(\n",
    "        (StandardScaler(), num_cols),\n",
    "        (OneHotEncoder(handle_unknown=\"ignore\", drop=\"first\", sparse_output=False), cat_cols),\n",
    "        remainder=\"passthrough\",\n",
    "        verbose_feature_names_out=False\n",
    "    ).set_output(transform='pandas')\n",
    "\n",
    "    df_train = col_transf.fit_transform(df_train)\n",
    "    df_train = df_train\n",
    "\n",
    "    df_test = col_transf.transform(df_test)\n",
    "    \n",
    "    cols = df_train.columns.tolist()\n",
    "    cols = [cols[-1]] + cols[:-1]\n",
    "\n",
    "    # Reorder the columns in the DataFrame\n",
    "    df_train = df_train[cols]\n",
    "    df_test = df_test[cols]\n",
    "\n",
    "    return col_transf, df_train, df_test"
   ]
  },
  {
   "cell_type": "markdown",
   "id": "e8f1cec8",
   "metadata": {},
   "source": [
    "## Open data"
   ]
  },
  {
   "cell_type": "code",
   "execution_count": null,
   "id": "8da60a66",
   "metadata": {},
   "outputs": [],
   "source": [
    "df = pd.read_csv(\"data/Churn_Modelling.csv\")\n",
    "df.head(3)"
   ]
  },
  {
   "cell_type": "markdown",
   "id": "551564ab",
   "metadata": {},
   "source": [
    "## Preprocess the data "
   ]
  },
  {
   "cell_type": "code",
   "execution_count": null,
   "id": "01746c6c",
   "metadata": {},
   "outputs": [],
   "source": [
    "col_transf, df_train, df_test = preprocess(df)\n",
    "df_train.head(2)"
   ]
  },
  {
   "cell_type": "markdown",
   "id": "be5836aa",
   "metadata": {},
   "source": [
    "## Train Model"
   ]
  },
  {
   "cell_type": "code",
   "execution_count": null,
   "id": "3e2ab0c6",
   "metadata": {},
   "outputs": [],
   "source": [
    "def train(X_train, y_train):\n",
    "    \"\"\"\n",
    "    Train a logistic regression model.\n",
    "\n",
    "    Args:\n",
    "        X_train (pd.DataFrame): DataFrame with features\n",
    "        y_train (pd.Series): Series with target\n",
    "\n",
    "    Returns:\n",
    "        LogisticRegression: trained logistic regression model\n",
    "    \"\"\"\n",
    "    log_reg = LogisticRegression(max_iter=1000)\n",
    "    log_reg.fit(X_train, y_train)\n",
    "    return log_reg"
   ]
  },
  {
   "cell_type": "code",
   "execution_count": null,
   "id": "e08caf16",
   "metadata": {},
   "outputs": [],
   "source": [
    "X_train = df_train.drop(\"Exited\", axis=1)\n",
    "y_train = df_train[\"Exited\"]\n",
    "\n",
    "model = train(X_train, y_train)"
   ]
  },
  {
   "cell_type": "markdown",
   "id": "3cfd6b61",
   "metadata": {},
   "source": [
    "## Evaluate model"
   ]
  },
  {
   "cell_type": "code",
   "execution_count": null,
   "id": "343772dd",
   "metadata": {},
   "outputs": [],
   "source": [
    "X_test = df_test.drop(\"Exited\", axis=1)\n",
    "y_test = df_test[\"Exited\"]\n",
    "\n",
    "y_pred = model.predict(X_test)\n",
    "\n",
    "print(f\"Accuracy score: {accuracy_score(y_test, y_pred):.2f}\")\n",
    "print(f\"Precision score: {precision_score(y_test, y_pred):.2f}\")\n",
    "print(f\"Recall score: {recall_score(y_test, y_pred):.2f}\")\n",
    "print(f\"F1 score: {f1_score(y_test, y_pred):.2f}\")"
   ]
  },
  {
   "cell_type": "code",
   "execution_count": null,
   "id": "a6d1ce0d",
   "metadata": {},
   "outputs": [],
   "source": [
    "conf_mat = confusion_matrix(y_test, y_pred, labels=model.classes_)\n",
    "conf_mat_disp = ConfusionMatrixDisplay(\n",
    "    confusion_matrix=conf_mat, display_labels=model.classes_\n",
    ")\n",
    "conf_mat_disp.plot()\n",
    "plt.show()"
   ]
  },
  {
   "cell_type": "markdown",
   "id": "00219ac6",
   "metadata": {},
   "source": []
  }
 ],
 "metadata": {
  "kernelspec": {
   "display_name": "conda_python3",
   "language": "python",
   "name": "conda_python3"
  },
  "language_info": {
   "codemirror_mode": {
    "name": "ipython",
    "version": 3
   },
   "file_extension": ".py",
   "mimetype": "text/x-python",
   "name": "python",
   "nbconvert_exporter": "python",
   "pygments_lexer": "ipython3",
   "version": "3.10.13"
  }
 },
 "nbformat": 4,
 "nbformat_minor": 5
}