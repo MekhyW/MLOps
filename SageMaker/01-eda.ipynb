{
 "cells": [
  {
   "cell_type": "markdown",
   "id": "c2f4504f",
   "metadata": {},
   "source": [
    "# Bank Marketing Dataset\n",
    "\n",
    "Predicting Term Deposit Suscriptions\n",
    "\n",
    "This notebook has an exploratory analysis to demonstrate some features that could be used in a Sagemaker notebook instance."
   ]
  },
  {
   "cell_type": "markdown",
   "id": "1a292f79",
   "metadata": {},
   "source": [
    "## Importing libs"
   ]
  },
  {
   "cell_type": "code",
   "execution_count": null,
   "id": "0e6d31f4",
   "metadata": {},
   "outputs": [],
   "source": [
    "!pip install -U pip missingno --quiet"
   ]
  },
  {
   "cell_type": "code",
   "execution_count": null,
   "id": "daf15427",
   "metadata": {},
   "outputs": [],
   "source": [
    "# Data\n",
    "import pandas as pd\n",
    "\n",
    "# Export\n",
    "import pickle\n",
    "\n",
    "# Plot\n",
    "import matplotlib.pyplot as plt\n",
    "import seaborn as sns\n",
    "import missingno as msno\n",
    "\n",
    "# AWS\n",
    "import boto3"
   ]
  },
  {
   "cell_type": "markdown",
   "id": "6be35a89",
   "metadata": {},
   "source": [
    "## Get data from S3"
   ]
  },
  {
   "cell_type": "code",
   "execution_count": null,
   "id": "bc726193",
   "metadata": {},
   "outputs": [],
   "source": [
    "!mkdir data"
   ]
  },
  {
   "cell_type": "code",
   "execution_count": null,
   "id": "2b3aa590",
   "metadata": {},
   "outputs": [],
   "source": [
    "bucket_in = \"mlops-material\"\n",
    "FILE_NAME = \"Churn_Modelling.csv\""
   ]
  },
  {
   "cell_type": "code",
   "execution_count": null,
   "id": "2adfa141",
   "metadata": {},
   "outputs": [],
   "source": [
    "s3 = boto3.client(\"s3\")\n",
    "\n",
    "# Download the dataset\n",
    "# s3.download_file(\n",
    "#    \"mlops-material\", FILE_NAME, f\"data/{FILE_NAME}\"\n",
    "# )\n",
    "\n",
    "!wget https://mlops-material.s3.us-east-2.amazonaws.com/Churn_Modelling.csv\n",
    "!mv Churn_Modelling.csv data/Churn_Modelling.csv"
   ]
  },
  {
   "cell_type": "code",
   "execution_count": null,
   "id": "f26549f6",
   "metadata": {},
   "outputs": [],
   "source": [
    "# List files\n",
    "!ls data"
   ]
  },
  {
   "cell_type": "markdown",
   "id": "7044d064",
   "metadata": {},
   "source": [
    "## Open Data"
   ]
  },
  {
   "cell_type": "code",
   "execution_count": null,
   "id": "d52afb9a",
   "metadata": {},
   "outputs": [],
   "source": [
    "df = pd.read_csv(\"data/Churn_Modelling.csv\")\n",
    "df.sample(3)"
   ]
  },
  {
   "cell_type": "markdown",
   "id": "31cd12a8",
   "metadata": {},
   "source": [
    "## Check data"
   ]
  },
  {
   "cell_type": "code",
   "execution_count": null,
   "id": "c60ef6ec",
   "metadata": {},
   "outputs": [],
   "source": [
    "print(\"Shape\")\n",
    "print(df.shape)\n",
    "\n",
    "print(\"\\nTypes\")\n",
    "print(df.dtypes)"
   ]
  },
  {
   "cell_type": "markdown",
   "id": "0681b08c",
   "metadata": {},
   "source": [
    "### Check missings"
   ]
  },
  {
   "cell_type": "code",
   "execution_count": null,
   "id": "7d26446b",
   "metadata": {},
   "outputs": [],
   "source": [
    "pd.DataFrame(df.isnull().sum()).T"
   ]
  },
  {
   "cell_type": "code",
   "execution_count": null,
   "id": "23668fb9",
   "metadata": {},
   "outputs": [],
   "source": [
    "msno.matrix(df)\n",
    "plt.show()"
   ]
  },
  {
   "cell_type": "code",
   "execution_count": null,
   "id": "c7120d91",
   "metadata": {},
   "outputs": [],
   "source": [
    "sns.set(style=\"whitegrid\")\n",
    "g = sns.countplot(data=df, x=\"Gender\", hue=\"Exited\")\n",
    "g.set_xticklabels(g.get_xticklabels(), rotation=90);"
   ]
  },
  {
   "cell_type": "code",
   "execution_count": null,
   "id": "f3eaefac",
   "metadata": {},
   "outputs": [],
   "source": [
    "sns.set(style=\"whitegrid\")\n",
    "g = sns.countplot(data=df, x=\"Geography\", hue=\"Exited\")\n",
    "g.set_xticklabels(g.get_xticklabels(), rotation=90);"
   ]
  },
  {
   "cell_type": "code",
   "execution_count": null,
   "id": "ac16ab2c",
   "metadata": {},
   "outputs": [],
   "source": [
    "sns.pairplot(df)"
   ]
  },
  {
   "cell_type": "code",
   "execution_count": null,
   "id": "b2219e1c",
   "metadata": {},
   "outputs": [],
   "source": [
    "def correlation_matrix(df, cols):\n",
    "    fig = plt.gcf()\n",
    "    fig.set_size_inches(8, 6)\n",
    "    plt.xticks(fontsize=10)\n",
    "    plt.yticks(fontsize=10)\n",
    "    fig = sns.heatmap(df[cols].corr(), annot=True, linewidths=0.5, annot_kws={\"size\": 12}, linecolor=\"w\", cmap=\"RdBu\")\n",
    "    plt.show(block=True)\n",
    "\n",
    "num_cols = [\n",
    "        \"CreditScore\",\n",
    "        \"Age\",\n",
    "        \"Tenure\",\n",
    "        \"Balance\",\n",
    "        \"NumOfProducts\",\n",
    "        \"HasCrCard\",\n",
    "        \"IsActiveMember\",\n",
    "        \"EstimatedSalary\",\n",
    "    ]\n",
    "correlation_matrix(df, num_cols)"
   ]
  }
 ],
 "metadata": {
  "kernelspec": {
   "display_name": "Python 3 (ipykernel)",
   "language": "python",
   "name": "python3"
  },
  "language_info": {
   "codemirror_mode": {
    "name": "ipython",
    "version": 3
   },
   "file_extension": ".py",
   "mimetype": "text/x-python",
   "name": "python",
   "nbconvert_exporter": "python",
   "pygments_lexer": "ipython3",
   "version": "3.10.12"
  }
 },
 "nbformat": 4,
 "nbformat_minor": 5
}